{
 "cells": [
  {
   "cell_type": "code",
   "execution_count": 2,
   "metadata": {},
   "outputs": [
    {
     "name": "stdout",
     "output_type": "stream",
     "text": [
      "Ultralytics 8.3.39  Python-3.10.10 torch-2.2.2+cpu CPU (Intel Core(TM) i5-8265U 1.60GHz)\n",
      "\u001b[34m\u001b[1mengine\\trainer: \u001b[0mtask=classify, mode=train, model=yolov8n-cls.pt, data=./anamelClassification.v1i.multiclass, epochs=10, time=None, patience=100, batch=32, imgsz=224, save=True, save_period=5, cache=False, device=None, workers=8, project=None, name=train2, exist_ok=False, pretrained=True, optimizer=AdamW, verbose=True, seed=0, deterministic=True, single_cls=False, rect=False, cos_lr=False, close_mosaic=10, resume=False, amp=True, fraction=1.0, profile=False, freeze=None, multi_scale=False, overlap_mask=True, mask_ratio=4, dropout=0.0, val=True, split=val, save_json=False, save_hybrid=False, conf=None, iou=0.7, max_det=300, half=False, dnn=False, plots=True, source=None, vid_stride=1, stream_buffer=False, visualize=False, augment=False, agnostic_nms=False, classes=None, retina_masks=False, embed=None, show=False, save_frames=False, save_txt=False, save_conf=False, save_crop=False, show_labels=True, show_conf=True, show_boxes=True, line_width=None, format=torchscript, keras=False, optimize=False, int8=False, dynamic=False, simplify=True, opset=None, workspace=None, nms=False, lr0=0.001, lrf=0.01, momentum=0.937, weight_decay=0.0005, warmup_epochs=3.0, warmup_momentum=0.8, warmup_bias_lr=0.1, box=7.5, cls=0.5, dfl=1.5, pose=12.0, kobj=1.0, nbs=64, hsv_h=0.015, hsv_s=0.7, hsv_v=0.4, degrees=0.0, translate=0.1, scale=0.5, shear=0.0, perspective=0.0, flipud=0.0, fliplr=0.5, bgr=0.0, mosaic=1.0, mixup=0.0, copy_paste=0.0, copy_paste_mode=flip, auto_augment=randaugment, erasing=0.4, crop_fraction=1.0, cfg=None, tracker=botsort.yaml, save_dir=runs\\classify\\train2\n",
      "\u001b[34m\u001b[1mtrain:\u001b[0m C:\\Users\\Lenovo\\OneDrive\\Desktop\\ChildrenDrawingsMentalHealth\\anamelClassification.v1i.multiclass\\train... found 400 images in 4 classes  \n",
      "\u001b[34m\u001b[1mval:\u001b[0m C:\\Users\\Lenovo\\OneDrive\\Desktop\\ChildrenDrawingsMentalHealth\\anamelClassification.v1i.multiclass\\val... found 50 images in 4 classes  \n",
      "\u001b[34m\u001b[1mtest:\u001b[0m C:\\Users\\Lenovo\\OneDrive\\Desktop\\ChildrenDrawingsMentalHealth\\anamelClassification.v1i.multiclass\\test... found 50 images in 4 classes  \n",
      "Overriding model.yaml nc=1000 with nc=4\n",
      "\n",
      "                   from  n    params  module                                       arguments                     \n",
      "  0                  -1  1       464  ultralytics.nn.modules.conv.Conv             [3, 16, 3, 2]                 \n",
      "  1                  -1  1      4672  ultralytics.nn.modules.conv.Conv             [16, 32, 3, 2]                \n",
      "  2                  -1  1      7360  ultralytics.nn.modules.block.C2f             [32, 32, 1, True]             \n",
      "  3                  -1  1     18560  ultralytics.nn.modules.conv.Conv             [32, 64, 3, 2]                \n",
      "  4                  -1  2     49664  ultralytics.nn.modules.block.C2f             [64, 64, 2, True]             \n",
      "  5                  -1  1     73984  ultralytics.nn.modules.conv.Conv             [64, 128, 3, 2]               \n",
      "  6                  -1  2    197632  ultralytics.nn.modules.block.C2f             [128, 128, 2, True]           \n",
      "  7                  -1  1    295424  ultralytics.nn.modules.conv.Conv             [128, 256, 3, 2]              \n",
      "  8                  -1  1    460288  ultralytics.nn.modules.block.C2f             [256, 256, 1, True]           \n",
      "  9                  -1  1    335364  ultralytics.nn.modules.head.Classify         [256, 4]                      \n",
      "YOLOv8n-cls summary: 99 layers, 1,443,412 parameters, 1,443,412 gradients, 3.4 GFLOPs\n",
      "Transferred 156/158 items from pretrained weights\n",
      "\u001b[34m\u001b[1mTensorBoard: \u001b[0mStart with 'tensorboard --logdir runs\\classify\\train2', view at http://localhost:6006/\n"
     ]
    },
    {
     "name": "stderr",
     "output_type": "stream",
     "text": [
      "\u001b[34m\u001b[1mtrain: \u001b[0mScanning C:\\Users\\Lenovo\\OneDrive\\Desktop\\ChildrenDrawingsMentalHealth\\anamelClassification.v1i.multiclass\\train... 400 images, 0 corrupt: 100%|██████████| 400/400 [00:00<?, ?it/s]\n",
      "\u001b[34m\u001b[1mval: \u001b[0mScanning C:\\Users\\Lenovo\\OneDrive\\Desktop\\ChildrenDrawingsMentalHealth\\anamelClassification.v1i.multiclass\\val... 50 images, 0 corrupt: 100%|██████████| 50/50 [00:00<?, ?it/s]"
     ]
    },
    {
     "name": "stdout",
     "output_type": "stream",
     "text": [
      "\u001b[34m\u001b[1moptimizer:\u001b[0m AdamW(lr=0.001, momentum=0.937) with parameter groups 26 weight(decay=0.0), 27 weight(decay=0.0005), 27 bias(decay=0.0)\n"
     ]
    },
    {
     "name": "stderr",
     "output_type": "stream",
     "text": [
      "\n"
     ]
    },
    {
     "name": "stdout",
     "output_type": "stream",
     "text": [
      "\u001b[34m\u001b[1mTensorBoard: \u001b[0mmodel graph visualization added \n",
      "Image sizes 224 train, 224 val\n",
      "Using 0 dataloader workers\n",
      "Logging results to \u001b[1mruns\\classify\\train2\u001b[0m\n",
      "Starting training for 10 epochs...\n",
      "\n",
      "      Epoch    GPU_mem       loss  Instances       Size\n"
     ]
    },
    {
     "name": "stderr",
     "output_type": "stream",
     "text": [
      "       1/10         0G      1.043         16        224: 100%|██████████| 13/13 [00:20<00:00,  1.61s/it]\n",
      "               classes   top1_acc   top5_acc: 100%|██████████| 1/1 [00:01<00:00,  1.43s/it]"
     ]
    },
    {
     "name": "stdout",
     "output_type": "stream",
     "text": [
      "                   all       0.66          1\n"
     ]
    },
    {
     "name": "stderr",
     "output_type": "stream",
     "text": [
      "\n"
     ]
    },
    {
     "name": "stdout",
     "output_type": "stream",
     "text": [
      "\n",
      "      Epoch    GPU_mem       loss  Instances       Size\n"
     ]
    },
    {
     "name": "stderr",
     "output_type": "stream",
     "text": [
      "       2/10         0G     0.6991         16        224: 100%|██████████| 13/13 [00:22<00:00,  1.72s/it]\n",
      "               classes   top1_acc   top5_acc: 100%|██████████| 1/1 [00:01<00:00,  1.52s/it]"
     ]
    },
    {
     "name": "stdout",
     "output_type": "stream",
     "text": [
      "                   all        0.8          1\n"
     ]
    },
    {
     "name": "stderr",
     "output_type": "stream",
     "text": [
      "\n"
     ]
    },
    {
     "name": "stdout",
     "output_type": "stream",
     "text": [
      "\n",
      "      Epoch    GPU_mem       loss  Instances       Size\n"
     ]
    },
    {
     "name": "stderr",
     "output_type": "stream",
     "text": [
      "       3/10         0G     0.4952         16        224: 100%|██████████| 13/13 [00:22<00:00,  1.76s/it]\n",
      "               classes   top1_acc   top5_acc: 100%|██████████| 1/1 [00:01<00:00,  1.53s/it]"
     ]
    },
    {
     "name": "stdout",
     "output_type": "stream",
     "text": [
      "                   all       0.86          1\n"
     ]
    },
    {
     "name": "stderr",
     "output_type": "stream",
     "text": [
      "\n"
     ]
    },
    {
     "name": "stdout",
     "output_type": "stream",
     "text": [
      "\n",
      "      Epoch    GPU_mem       loss  Instances       Size\n"
     ]
    },
    {
     "name": "stderr",
     "output_type": "stream",
     "text": [
      "       4/10         0G     0.3712         16        224: 100%|██████████| 13/13 [00:23<00:00,  1.83s/it]\n",
      "               classes   top1_acc   top5_acc: 100%|██████████| 1/1 [00:01<00:00,  1.48s/it]"
     ]
    },
    {
     "name": "stdout",
     "output_type": "stream",
     "text": [
      "                   all       0.94          1\n"
     ]
    },
    {
     "name": "stderr",
     "output_type": "stream",
     "text": [
      "\n"
     ]
    },
    {
     "name": "stdout",
     "output_type": "stream",
     "text": [
      "\n",
      "      Epoch    GPU_mem       loss  Instances       Size\n"
     ]
    },
    {
     "name": "stderr",
     "output_type": "stream",
     "text": [
      "       5/10         0G     0.2651         16        224: 100%|██████████| 13/13 [00:27<00:00,  2.14s/it]\n",
      "               classes   top1_acc   top5_acc: 100%|██████████| 1/1 [00:01<00:00,  1.56s/it]"
     ]
    },
    {
     "name": "stdout",
     "output_type": "stream",
     "text": [
      "                   all       0.94          1\n"
     ]
    },
    {
     "name": "stderr",
     "output_type": "stream",
     "text": [
      "\n"
     ]
    },
    {
     "name": "stdout",
     "output_type": "stream",
     "text": [
      "\n",
      "      Epoch    GPU_mem       loss  Instances       Size\n"
     ]
    },
    {
     "name": "stderr",
     "output_type": "stream",
     "text": [
      "       6/10         0G     0.2573         16        224: 100%|██████████| 13/13 [00:24<00:00,  1.88s/it]\n",
      "               classes   top1_acc   top5_acc: 100%|██████████| 1/1 [00:01<00:00,  1.43s/it]"
     ]
    },
    {
     "name": "stdout",
     "output_type": "stream",
     "text": [
      "                   all       0.94          1\n"
     ]
    },
    {
     "name": "stderr",
     "output_type": "stream",
     "text": [
      "\n"
     ]
    },
    {
     "name": "stdout",
     "output_type": "stream",
     "text": [
      "\n",
      "      Epoch    GPU_mem       loss  Instances       Size\n"
     ]
    },
    {
     "name": "stderr",
     "output_type": "stream",
     "text": [
      "       7/10         0G     0.2244         16        224: 100%|██████████| 13/13 [00:21<00:00,  1.65s/it]\n",
      "               classes   top1_acc   top5_acc: 100%|██████████| 1/1 [00:01<00:00,  1.52s/it]"
     ]
    },
    {
     "name": "stdout",
     "output_type": "stream",
     "text": [
      "                   all       0.92          1\n"
     ]
    },
    {
     "name": "stderr",
     "output_type": "stream",
     "text": [
      "\n"
     ]
    },
    {
     "name": "stdout",
     "output_type": "stream",
     "text": [
      "\n",
      "      Epoch    GPU_mem       loss  Instances       Size\n"
     ]
    },
    {
     "name": "stderr",
     "output_type": "stream",
     "text": [
      "       8/10         0G     0.1769         16        224: 100%|██████████| 13/13 [00:21<00:00,  1.68s/it]\n",
      "               classes   top1_acc   top5_acc: 100%|██████████| 1/1 [00:01<00:00,  1.36s/it]"
     ]
    },
    {
     "name": "stdout",
     "output_type": "stream",
     "text": [
      "                   all       0.92          1\n"
     ]
    },
    {
     "name": "stderr",
     "output_type": "stream",
     "text": [
      "\n"
     ]
    },
    {
     "name": "stdout",
     "output_type": "stream",
     "text": [
      "\n",
      "      Epoch    GPU_mem       loss  Instances       Size\n"
     ]
    },
    {
     "name": "stderr",
     "output_type": "stream",
     "text": [
      "       9/10         0G     0.1752         16        224: 100%|██████████| 13/13 [00:21<00:00,  1.68s/it]\n",
      "               classes   top1_acc   top5_acc: 100%|██████████| 1/1 [00:01<00:00,  1.59s/it]"
     ]
    },
    {
     "name": "stdout",
     "output_type": "stream",
     "text": [
      "                   all       0.94          1\n"
     ]
    },
    {
     "name": "stderr",
     "output_type": "stream",
     "text": [
      "\n"
     ]
    },
    {
     "name": "stdout",
     "output_type": "stream",
     "text": [
      "\n",
      "      Epoch    GPU_mem       loss  Instances       Size\n"
     ]
    },
    {
     "name": "stderr",
     "output_type": "stream",
     "text": [
      "      10/10         0G     0.1807         16        224: 100%|██████████| 13/13 [00:23<00:00,  1.80s/it]\n",
      "               classes   top1_acc   top5_acc: 100%|██████████| 1/1 [00:01<00:00,  1.39s/it]"
     ]
    },
    {
     "name": "stdout",
     "output_type": "stream",
     "text": [
      "                   all       0.96          1\n"
     ]
    },
    {
     "name": "stderr",
     "output_type": "stream",
     "text": [
      "\n"
     ]
    },
    {
     "name": "stdout",
     "output_type": "stream",
     "text": [
      "\n",
      "10 epochs completed in 0.070 hours.\n",
      "Optimizer stripped from runs\\classify\\train2\\weights\\last.pt, 3.0MB\n",
      "Optimizer stripped from runs\\classify\\train2\\weights\\best.pt, 3.0MB\n",
      "\n",
      "Validating runs\\classify\\train2\\weights\\best.pt...\n",
      "Ultralytics 8.3.39  Python-3.10.10 torch-2.2.2+cpu CPU (Intel Core(TM) i5-8265U 1.60GHz)\n",
      "YOLOv8n-cls summary (fused): 73 layers, 1,440,004 parameters, 0 gradients, 3.3 GFLOPs\n",
      "\u001b[34m\u001b[1mtrain:\u001b[0m C:\\Users\\Lenovo\\OneDrive\\Desktop\\ChildrenDrawingsMentalHealth\\anamelClassification.v1i.multiclass\\train... found 400 images in 4 classes  \n",
      "\u001b[34m\u001b[1mval:\u001b[0m C:\\Users\\Lenovo\\OneDrive\\Desktop\\ChildrenDrawingsMentalHealth\\anamelClassification.v1i.multiclass\\val... found 50 images in 4 classes  \n",
      "\u001b[34m\u001b[1mtest:\u001b[0m C:\\Users\\Lenovo\\OneDrive\\Desktop\\ChildrenDrawingsMentalHealth\\anamelClassification.v1i.multiclass\\test... found 50 images in 4 classes  \n"
     ]
    },
    {
     "name": "stderr",
     "output_type": "stream",
     "text": [
      "               classes   top1_acc   top5_acc: 100%|██████████| 1/1 [00:01<00:00,  1.38s/it]\n"
     ]
    },
    {
     "name": "stdout",
     "output_type": "stream",
     "text": [
      "                   all       0.96          1\n",
      "Speed: 0.0ms preprocess, 9.2ms inference, 0.0ms loss, 0.0ms postprocess per image\n",
      "Results saved to \u001b[1mruns\\classify\\train2\u001b[0m\n"
     ]
    },
    {
     "data": {
      "text/plain": [
       "ultralytics.utils.metrics.ClassifyMetrics object with attributes:\n",
       "\n",
       "confusion_matrix: <ultralytics.utils.metrics.ConfusionMatrix object at 0x000002C5258FA4D0>\n",
       "curves: []\n",
       "curves_results: []\n",
       "fitness: 0.9799999892711639\n",
       "keys: ['metrics/accuracy_top1', 'metrics/accuracy_top5']\n",
       "results_dict: {'metrics/accuracy_top1': 0.9599999785423279, 'metrics/accuracy_top5': 1.0, 'fitness': 0.9799999892711639}\n",
       "save_dir: WindowsPath('runs/classify/train2')\n",
       "speed: {'preprocess': 0.0, 'inference': 9.1656494140625, 'loss': 0.0, 'postprocess': 0.0}\n",
       "task: 'classify'\n",
       "top1: 0.9599999785423279\n",
       "top5: 1.0"
      ]
     },
     "execution_count": 2,
     "metadata": {},
     "output_type": "execute_result"
    }
   ],
   "source": [
    "from ultralytics import YOLO\n",
    "\n",
    "# Load a pre-trained YOLO model for classification\n",
    "model = YOLO('yolov8n-cls.pt')  # Replace with the path to your pre-trained model if necessary\n",
    "\n",
    "# Train the model using the modified data configuration\n",
    "model.train(\n",
    "    data=\"./anamelClassification.v1i.multiclass\",\n",
    "    epochs=10,\n",
    "    batch=32,\n",
    "    imgsz=224,\n",
    "    optimizer=\"AdamW\",\n",
    "    lr0=1e-3,\n",
    "    save=True,\n",
    "    save_period=5,\n",
    ")\n"
   ]
  },
  {
   "cell_type": "code",
   "execution_count": 3,
   "metadata": {},
   "outputs": [],
   "source": [
    "import os\n",
    "\n",
    "# Define the path where you want to save the model\n",
    "save_path = r'C:\\Users\\Lenovo\\OneDrive\\Desktop\\ChildrenDrawingsMentalHealth\\runs\\classify\\train\\weights'\n",
    "\n",
    "# Create the directory if it doesn't exist\n",
    "os.makedirs(save_path, exist_ok=True)\n",
    "\n",
    "# Save the model\n",
    "model.save(os.path.join(save_path, 'best.pt'))\n"
   ]
  },
  {
   "cell_type": "code",
   "execution_count": 4,
   "metadata": {},
   "outputs": [
    {
     "name": "stdout",
     "output_type": "stream",
     "text": [
      "\n",
      "image 1/1 c:\\Users\\Lenovo\\OneDrive\\Desktop\\ChildrenDrawingsMentalHealth\\depositphotos_52843447-stock-illustration-hand-drawing-happy-kids.jpg: 224x224 Anger and aggression 0.37, happy 0.31, sad 0.29, anxiety 0.03, 30.9ms\n",
      "Speed: 9.0ms preprocess, 30.9ms inference, 0.0ms postprocess per image at shape (1, 3, 224, 224)\n",
      "Prediction Results:\n",
      "Anger and aggression: 37.44%\n",
      "anxiety: 3.15%\n",
      "happy: 30.66%\n",
      "sad: 28.75%\n"
     ]
    }
   ],
   "source": [
    "# Run inference on the image\n",
    "results = model.predict(source='./depositphotos_52843447-stock-illustration-hand-drawing-happy-kids.jpg', show=True)\n",
    "\n",
    "# Check if results is a list and extract the first result if so\n",
    "if isinstance(results, list):\n",
    "    result = results[0]  # Extract the first result from the list\n",
    "\n",
    "    # If results contain probabilities, extract them\n",
    "    if hasattr(result, 'probs') and result.probs is not None:\n",
    "        # Access the 'data' attribute to get the raw probabilities\n",
    "        probs = result.probs.data.numpy()  # Convert to numpy array for numerical operations\n",
    "        \n",
    "        # Map class labels to their indices (update as needed)\n",
    "        label_names = {0: 'Anger and aggression', 1: 'anxiety', 2: 'happy', 3: 'sad'}\n",
    "        \n",
    "        # Print the results as percentages\n",
    "        print(\"Prediction Results:\")\n",
    "        for i, prob in enumerate(probs):\n",
    "            label = label_names.get(i, f'Class {i}')  # Use a fallback if a label is not found\n",
    "            print(f\"{label}: {prob * 100:.2f}%\")\n",
    "    else:\n",
    "        print(\"No probabilities found in the results.\")\n",
    "else:\n",
    "    print(\"The results object is not as expected.\")\n"
   ]
  },
  {
   "cell_type": "code",
   "execution_count": 6,
   "metadata": {},
   "outputs": [
    {
     "name": "stdout",
     "output_type": "stream",
     "text": [
      "\n",
      "image 1/1 c:\\Users\\Lenovo\\OneDrive\\Desktop\\ChildrenDrawingsMentalHealth\\depositphotos_52843447-stock-illustration-hand-drawing-happy-kids.jpg: 224x224 Anger and aggression 0.37, happy 0.31, sad 0.29, anxiety 0.03, 50.9ms\n",
      "Speed: 10.0ms preprocess, 50.9ms inference, 0.0ms postprocess per image at shape (1, 3, 224, 224)\n",
      "Prediction Results:\n",
      "Anger and aggression: 37.44%\n",
      "anxiety: 3.15%\n",
      "happy: 30.66%\n",
      "sad: 28.75%\n"
     ]
    }
   ],
   "source": [
    "from ultralytics import YOLO\n",
    "\n",
    "# Load the model using an absolute path\n",
    "model = YOLO(r'C:/Users/Lenovo/OneDrive/Desktop/ChildrenDrawingsMentalHealth/runs/classify/train/weights/best.pt')\n",
    "\n",
    "\n",
    "# Run inference on the image\n",
    "results = model.predict(source='./depositphotos_52843447-stock-illustration-hand-drawing-happy-kids.jpg', show=True)\n",
    "\n",
    "# Check if results is a list and extract the first result if so\n",
    "if isinstance(results, list):\n",
    "    result = results[0]  # Extract the first result from the list\n",
    "\n",
    "    # If results contain probabilities, extract them\n",
    "    if hasattr(result, 'probs') and result.probs is not None:\n",
    "        # Access the 'data' attribute to get the raw probabilities\n",
    "        probs = result.probs.data.numpy()  # Convert to a NumPy array for numerical operations\n",
    "        \n",
    "        # Map class labels to their indices (update as needed)\n",
    "        label_names = {0: 'Anger and aggression', 1: 'anxiety', 2: 'happy', 3: 'sad'}\n",
    "        \n",
    "        # Print the results as percentages\n",
    "        print(\"Prediction Results:\")\n",
    "        for i, prob in enumerate(probs):\n",
    "            label = label_names.get(i, f'Class {i}')  # Use a fallback if a label is not found\n",
    "            print(f\"{label}: {prob * 100:.2f}%\")\n",
    "    else:\n",
    "        print(\"No probabilities found in the results.\")\n",
    "else:\n",
    "    print(\"The results object is not as expected.\")\n"
   ]
  }
 ],
 "metadata": {
  "kernelspec": {
   "display_name": "Python 3",
   "language": "python",
   "name": "python3"
  },
  "language_info": {
   "codemirror_mode": {
    "name": "ipython",
    "version": 3
   },
   "file_extension": ".py",
   "mimetype": "text/x-python",
   "name": "python",
   "nbconvert_exporter": "python",
   "pygments_lexer": "ipython3",
   "version": "3.10.10"
  }
 },
 "nbformat": 4,
 "nbformat_minor": 2
}
