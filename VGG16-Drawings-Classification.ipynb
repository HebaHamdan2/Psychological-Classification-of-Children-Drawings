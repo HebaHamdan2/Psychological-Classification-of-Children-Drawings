{
 "cells": [
  {
   "cell_type": "code",
   "execution_count": 1,
   "metadata": {},
   "outputs": [],
   "source": [
    "# display, transform, read, split ...\n",
    "import numpy as np\n",
    "import matplotlib.pyplot as plt\n",
    "import splitfolders\n",
    "\n",
    "# tensorflow\n",
    "import tensorflow.keras as keras\n",
    "import tensorflow as tf\n",
    "\n",
    "# image processing\n",
    "from tensorflow.keras.preprocessing import image\n",
    "from tensorflow.keras.preprocessing.image import ImageDataGenerator, load_img\n",
    "\n",
    "# model / neural network\n",
    "from tensorflow.keras import layers\n",
    "from tensorflow.keras.layers import Dense\n",
    "from tensorflow.keras.models import  Model\n",
    "from tensorflow.keras.applications import ResNet50\n",
    "from tensorflow.keras.applications.resnet50 import preprocess_input\n",
    "from tensorflow.keras.callbacks import ReduceLROnPlateau, EarlyStopping\n",
    "# Dropout is a regularization technique to prevent overfitting by randomly setting a fraction of input units to 0 at each update during training.\n",
    "from tensorflow.keras.layers import Dropout, BatchNormalization\n",
    "# BatchNormalization normalizes the inputs of each layer to improve training speed and stability.\n",
    "from tensorflow.keras.regularizers import l2"
   ]
  },
  {
   "cell_type": "code",
   "execution_count": 2,
   "metadata": {},
   "outputs": [
    {
     "name": "stdout",
     "output_type": "stream",
     "text": [
      "Found 280 images belonging to 4 classes.\n",
      "Found 80 images belonging to 4 classes.\n",
      "Found 41 images belonging to 4 classes.\n"
     ]
    }
   ],
   "source": [
    "train_datagen = ImageDataGenerator(\n",
    "    preprocessing_function=preprocess_input,\n",
    ")\n",
    "\n",
    "test_datagen = ImageDataGenerator(\n",
    "    preprocessing_function=preprocess_input,\n",
    ")\n",
    "\n",
    "val_datagen = ImageDataGenerator(\n",
    "    preprocessing_function=preprocess_input,\n",
    ")\n",
    "\n",
    "# define classes name\n",
    "class_names = ['Angry','Fear','Happy','Sad']\n",
    "train_batches = ImageDataGenerator().flow_from_directory(\"./data-split/train/\", target_size=(224,224), classes=['Angry','Fear','Happy','Sad'], batch_size=10)\n",
    "valid_batches = ImageDataGenerator().flow_from_directory(\"./data-split/val/\", target_size=(224,224),classes=['Angry','Fear','Happy','Sad'], batch_size=4)\n",
    "test_batches = ImageDataGenerator().flow_from_directory(\"./data-split/test/\", target_size=(224,224), classes=['Angry','Fear','Happy','Sad'], batch_size=4)\n",
    "vgg16_model = keras.applications.vgg16.VGG16()\n"
   ]
  },
  {
   "cell_type": "code",
   "execution_count": 4,
   "metadata": {},
   "outputs": [],
   "source": [
    "from tensorflow.keras.applications import VGG16\n",
    "from tensorflow.keras.layers import Dense, GlobalAveragePooling2D\n",
    "from tensorflow.keras.models import Model\n",
    "\n",
    "# Load the VGG16 model with weights pre-trained on ImageNet, excluding the top layers\n",
    "base_model = VGG16(weights='imagenet', include_top=False, input_shape=(224, 224, 3))\n",
    "\n",
    "# Freeze the layers of the base model\n",
    "for layer in base_model.layers:\n",
    "    layer.trainable = False\n",
    "\n",
    "# Add custom classification head\n",
    "x = base_model.output\n",
    "x = GlobalAveragePooling2D()(x)\n",
    "x = Dense(4, activation='softmax')(x)  # 4 classes for 'Angry', 'Fear', 'Happy', 'Sad'\n",
    "\n",
    "# Final model\n",
    "model = Model(inputs=base_model.input, outputs=x)\n",
    "\n"
   ]
  },
  {
   "cell_type": "code",
   "execution_count": 5,
   "metadata": {},
   "outputs": [],
   "source": [
    "train_generator = train_batches\n",
    "valid_generator = valid_batches\n",
    "test_generator = test_batches\n"
   ]
  },
  {
   "cell_type": "code",
   "execution_count": 7,
   "metadata": {},
   "outputs": [],
   "source": [
    "\n",
    "from tensorflow.keras.optimizers import Adam\n",
    "\n",
    "model.compile(optimizer=Adam(learning_rate=0.001), loss='categorical_crossentropy', metrics=['accuracy'])\n"
   ]
  },
  {
   "cell_type": "code",
   "execution_count": null,
   "metadata": {},
   "outputs": [
    {
     "name": "stdout",
     "output_type": "stream",
     "text": [
      "Epoch 1/30\n",
      "28/28 - 72s - 3s/step - accuracy: 0.4607 - loss: 2.4983 - val_accuracy: 0.3125 - val_loss: 3.9508\n",
      "Epoch 2/30\n",
      "28/28 - 0s - 2ms/step - accuracy: 0.0000e+00 - loss: 0.0000e+00\n",
      "Epoch 3/30\n",
      "28/28 - 78s - 3s/step - accuracy: 0.4607 - loss: 2.3181 - val_accuracy: 0.3375 - val_loss: 3.9410\n",
      "Epoch 4/30\n",
      "28/28 - 0s - 1ms/step - accuracy: 0.0000e+00 - loss: 0.0000e+00\n",
      "Epoch 5/30\n",
      "28/28 - 70s - 2s/step - accuracy: 0.4786 - loss: 2.1963 - val_accuracy: 0.3500 - val_loss: 3.8859\n",
      "Epoch 6/30\n",
      "28/28 - 0s - 612us/step - accuracy: 0.0000e+00 - loss: 0.0000e+00\n",
      "Epoch 7/30\n",
      "28/28 - 68s - 2s/step - accuracy: 0.4893 - loss: 2.0878 - val_accuracy: 0.3500 - val_loss: 3.8252\n",
      "Epoch 8/30\n",
      "28/28 - 0s - 663us/step - accuracy: 0.0000e+00 - loss: 0.0000e+00\n",
      "Epoch 9/30\n",
      "28/28 - 69s - 2s/step - accuracy: 0.5179 - loss: 1.9766 - val_accuracy: 0.3500 - val_loss: 3.8038\n",
      "Epoch 10/30\n",
      "28/28 - 0s - 2ms/step - accuracy: 0.0000e+00 - loss: 0.0000e+00\n",
      "Epoch 11/30\n",
      "28/28 - 73s - 3s/step - accuracy: 0.5071 - loss: 1.8801 - val_accuracy: 0.3500 - val_loss: 3.8082\n",
      "Epoch 12/30\n",
      "28/28 - 0s - 2ms/step - accuracy: 0.0000e+00 - loss: 0.0000e+00\n",
      "Epoch 13/30\n",
      "28/28 - 70s - 2s/step - accuracy: 0.5286 - loss: 1.8113 - val_accuracy: 0.3500 - val_loss: 3.7571\n",
      "Epoch 14/30\n",
      "28/28 - 0s - 641us/step - accuracy: 0.0000e+00 - loss: 0.0000e+00\n",
      "Epoch 15/30\n",
      "28/28 - 68s - 2s/step - accuracy: 0.5500 - loss: 1.7054 - val_accuracy: 0.3500 - val_loss: 3.7208\n",
      "Epoch 16/30\n",
      "28/28 - 0s - 614us/step - accuracy: 0.0000e+00 - loss: 0.0000e+00\n",
      "Epoch 17/30\n",
      "28/28 - 68s - 2s/step - accuracy: 0.5607 - loss: 1.6359 - val_accuracy: 0.3625 - val_loss: 3.7138\n",
      "Epoch 18/30\n",
      "28/28 - 0s - 651us/step - accuracy: 0.0000e+00 - loss: 0.0000e+00\n",
      "Epoch 19/30\n",
      "28/28 - 70s - 3s/step - accuracy: 0.5821 - loss: 1.5574 - val_accuracy: 0.3625 - val_loss: 3.6720\n",
      "Epoch 20/30\n",
      "28/28 - 0s - 1ms/step - accuracy: 0.0000e+00 - loss: 0.0000e+00\n",
      "Epoch 21/30\n"
     ]
    }
   ],
   "source": [
    "# Calculate steps per epoch and validation steps\n",
    "steps_per_epoch = train_generator.samples // train_generator.batch_size\n",
    "validation_steps = valid_generator.samples // valid_generator.batch_size\n",
    "model.compile(optimizer=Adam(learning_rate=0.0001), loss='categorical_crossentropy', metrics=['accuracy'])\n",
    "\n",
    "\n",
    "# Initialize EarlyStopping callback\n",
    "from tensorflow.keras.callbacks import EarlyStopping\n",
    "early_stopping = EarlyStopping(monitor='val_loss', patience=5, restore_best_weights=True)\n",
    "\n",
    "# Train the model\n",
    "history = model.fit(\n",
    "    train_generator,\n",
    "    steps_per_epoch=steps_per_epoch,\n",
    "    validation_data=valid_generator,\n",
    "    validation_steps=validation_steps,\n",
    "    epochs=30,\n",
    "    verbose=2,\n",
    "    callbacks=[early_stopping]\n",
    ")\n"
   ]
  },
  {
   "cell_type": "code",
   "execution_count": 9,
   "metadata": {},
   "outputs": [
    {
     "ename": "NameError",
     "evalue": "name 'steps_per_epoch' is not defined",
     "output_type": "error",
     "traceback": [
      "\u001b[1;31m---------------------------------------------------------------------------\u001b[0m",
      "\u001b[1;31mNameError\u001b[0m                                 Traceback (most recent call last)",
      "Cell \u001b[1;32mIn[9], line 5\u001b[0m\n\u001b[0;32m      1\u001b[0m class_weights \u001b[38;5;241m=\u001b[39m {\u001b[38;5;241m0\u001b[39m: \u001b[38;5;241m1.\u001b[39m, \u001b[38;5;241m1\u001b[39m: \u001b[38;5;241m1.\u001b[39m, \u001b[38;5;241m2\u001b[39m: \u001b[38;5;241m1.\u001b[39m, \u001b[38;5;241m3\u001b[39m: \u001b[38;5;241m1.5\u001b[39m}  \u001b[38;5;66;03m# Example: increase weight for the underrepresented class\u001b[39;00m\n\u001b[0;32m      3\u001b[0m history \u001b[38;5;241m=\u001b[39m model\u001b[38;5;241m.\u001b[39mfit(\n\u001b[0;32m      4\u001b[0m     train_generator,\n\u001b[1;32m----> 5\u001b[0m     steps_per_epoch\u001b[38;5;241m=\u001b[39m\u001b[43msteps_per_epoch\u001b[49m,\n\u001b[0;32m      6\u001b[0m     validation_data\u001b[38;5;241m=\u001b[39mvalid_generator,\n\u001b[0;32m      7\u001b[0m     validation_steps\u001b[38;5;241m=\u001b[39mvalidation_steps,\n\u001b[0;32m      8\u001b[0m     epochs\u001b[38;5;241m=\u001b[39m\u001b[38;5;241m30\u001b[39m,\n\u001b[0;32m      9\u001b[0m     verbose\u001b[38;5;241m=\u001b[39m\u001b[38;5;241m2\u001b[39m,\n\u001b[0;32m     10\u001b[0m     class_weight\u001b[38;5;241m=\u001b[39mclass_weights\n\u001b[0;32m     11\u001b[0m )\n",
      "\u001b[1;31mNameError\u001b[0m: name 'steps_per_epoch' is not defined"
     ]
    }
   ],
   "source": [
    "class_weights = {0: 1., 1: 1., 2: 1., 3: 1.5}  # Example: increase weight for the underrepresented class\n",
    "\n",
    "history = model.fit(\n",
    "    train_generator,\n",
    "    steps_per_epoch=steps_per_epoch,\n",
    "    validation_data=valid_generator,\n",
    "    validation_steps=validation_steps,\n",
    "    epochs=30,\n",
    "    verbose=2,\n",
    "    class_weight=class_weights\n",
    ")\n"
   ]
  },
  {
   "cell_type": "code",
   "execution_count": null,
   "metadata": {},
   "outputs": [],
   "source": [
    "test_loss, test_accuracy = model.evaluate(test_generator, steps=test_generator.samples // test_generator.batch_size)\n",
    "print(f\"Test accuracy: {test_accuracy}, Test loss: {test_loss}\")\n"
   ]
  }
 ],
 "metadata": {
  "kernelspec": {
   "display_name": "Python 3",
   "language": "python",
   "name": "python3"
  },
  "language_info": {
   "codemirror_mode": {
    "name": "ipython",
    "version": 3
   },
   "file_extension": ".py",
   "mimetype": "text/x-python",
   "name": "python",
   "nbconvert_exporter": "python",
   "pygments_lexer": "ipython3",
   "version": "3.10.10"
  }
 },
 "nbformat": 4,
 "nbformat_minor": 2
}
