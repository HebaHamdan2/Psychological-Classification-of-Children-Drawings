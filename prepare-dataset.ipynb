{
 "cells": [
  {
   "cell_type": "code",
   "execution_count": null,
   "metadata": {},
   "outputs": [],
   "source": [
    "import os\n",
    "import pandas as pd\n",
    "import shutil\n",
    "\n",
    "# Define paths\n",
    "dataset_path = './anamelClassification.v1i.multiclass'\n",
    "splits = ['train', 'val', 'test']\n",
    "\n",
    "# Organize images into class subdirectories\n",
    "for split in splits:\n",
    "    csv_file = os.path.join(dataset_path, f\"{split}/_classes.csv\")\n",
    "    split_folder = os.path.join(dataset_path, split)\n",
    "    \n",
    "    # Read the CSV file\n",
    "    labels_df = pd.read_csv(csv_file)\n",
    "    \n",
    "    # Clean up column names (remove leading/trailing spaces)\n",
    "    labels_df.columns = labels_df.columns.str.strip()\n",
    "    \n",
    "    # Class columns (excluding the filename column)\n",
    "    class_columns = ['Anger and aggression', 'anxiety', 'happy', 'sad']\n",
    "    \n",
    "    for _, row in labels_df.iterrows():\n",
    "        image_name = row['filename']  # Get the image filename\n",
    "        \n",
    "        # Determine the class label for the image\n",
    "        class_label = None\n",
    "        for class_name in class_columns:\n",
    "            if row[class_name] == 1:  # Check if the column value is 1\n",
    "                class_label = class_name\n",
    "                break\n",
    "        \n",
    "        if class_label is None:\n",
    "            print(f\"Warning: No class label found for {image_name}\")\n",
    "            continue\n",
    "        \n",
    "        # Create class subdirectory if it doesn't exist\n",
    "        class_dir = os.path.join(split_folder, class_label)\n",
    "        os.makedirs(class_dir, exist_ok=True)\n",
    "        \n",
    "        # Move the image to the class subdirectory\n",
    "        source_path = os.path.join(split_folder, image_name)\n",
    "        dest_path = os.path.join(class_dir, image_name)\n",
    "        \n",
    "        if os.path.exists(source_path):\n",
    "            shutil.move(source_path, dest_path)\n",
    "        else:\n",
    "            print(f\"Warning: File {source_path} does not exist.\")\n"
   ]
  }
 ],
 "metadata": {
  "kernelspec": {
   "display_name": "Python 3",
   "language": "python",
   "name": "python3"
  },
  "language_info": {
   "codemirror_mode": {
    "name": "ipython",
    "version": 3
   },
   "file_extension": ".py",
   "mimetype": "text/x-python",
   "name": "python",
   "nbconvert_exporter": "python",
   "pygments_lexer": "ipython3",
   "version": "3.10.10"
  }
 },
 "nbformat": 4,
 "nbformat_minor": 2
}
